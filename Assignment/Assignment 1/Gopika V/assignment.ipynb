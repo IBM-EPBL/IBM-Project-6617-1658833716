{
  "nbformat": 4,
  "nbformat_minor": 0,
  "metadata": {
    "colab": {
      "provenance": [],
      "collapsed_sections": []
    },
    "kernelspec": {
      "name": "python3",
      "display_name": "Python 3"
    },
    "language_info": {
      "name": "python"
    }
  },
  "cells": [
    {
      "cell_type": "markdown",
      "source": [
        "Basic Python\n",
        "\n",
        "1. Sprit this String"
      ],
      "metadata": {
        "id": "td8cVKBQidLq"
      }
    },
    {
      "cell_type": "code",
      "source": [
        "txt= \"Hi there Sami\"\n",
        "s= txt.split()\n",
        "print(s)"
      ],
      "metadata": {
        "id": "DMdV2zpMbeEz"
      },
      "execution_count": null,
      "outputs": []
    },
    {
      "cell_type": "markdown",
      "source": [
        "2. Use .format() to print the following string.\n",
        "planet = \"Earth\"\n",
        "diameter = 12742"
      ],
      "metadata": {
        "id": "bvwsa70TkxO7"
      }
    },
    {
      "cell_type": "code",
      "source": [
        "planet=\"earth\"\n",
        "diameter=12742\n",
        "print('The diameter of {} is {} kilometers.'.format(planet,diameter));"
      ],
      "metadata": {
        "colab": {
          "base_uri": "https://localhost:8080/"
        },
        "id": "jS0VItJJcCo2",
        "outputId": "d385a4b0-a466-48e5-8d63-d107f657a601"
      },
      "execution_count": null,
      "outputs": [
        {
          "output_type": "stream",
          "name": "stdout",
          "text": [
            "The diameter of earth is 12742 kilometers.\n"
          ]
        }
      ]
    },
    {
      "cell_type": "code",
      "source": [
        "lst=[1,2,[3,4],[5,[100,200,['hello']],23,11],1,7]\n",
        "a=lst[3][1][2];\n",
        "print(a)"
      ],
      "metadata": {
        "colab": {
          "base_uri": "https://localhost:8080/"
        },
        "id": "hU0tSESbeO_t",
        "outputId": "5e99c269-c732-49cd-d395-80f6aa2230e2"
      },
      "execution_count": null,
      "outputs": [
        {
          "output_type": "stream",
          "name": "stdout",
          "text": [
            "['hello']\n"
          ]
        }
      ]
    },
    {
      "cell_type": "markdown",
      "source": [
        " 3. In this nest dictionary grab the word \"hello\"\n",
        "d = {'k1':[1,2,3,{'tricky':['oh','man','inception',{'target':[1,2,3,'hello']}]}]}"
      ],
      "metadata": {
        "id": "COca0O2Wk77_"
      }
    },
    {
      "cell_type": "code",
      "source": [
        "d={'k1':[1,2,3,{'tricky':['oh','man','inception',{'target':[1,2,3,'hello']}]}]}\n",
        "print(d['k1'][3][\"tricky\"][3]['target'][3])"
      ],
      "metadata": {
        "colab": {
          "base_uri": "https://localhost:8080/"
        },
        "id": "tC9euIBwfK0k",
        "outputId": "856e4057-04b1-4bb1-956d-ca74ed8adf6b"
      },
      "execution_count": null,
      "outputs": [
        {
          "output_type": "stream",
          "name": "stdout",
          "text": [
            "hello\n"
          ]
        }
      ]
    },
    {
      "cell_type": "markdown",
      "source": [
        "# NUMPY"
      ],
      "metadata": {
        "id": "iEyXk61HjbWC"
      }
    },
    {
      "cell_type": "markdown",
      "source": [
        "import numpy as np\n",
        " 4.1 Create an array of 10 zeros?"
      ],
      "metadata": {
        "id": "vOAYg5vDlIZv"
      }
    },
    {
      "cell_type": "code",
      "source": [
        "\n",
        "import numpy as np\n",
        "array=np.zeros(10)\n",
        "print(\"An array of 10 zeros:\")\n",
        "print(array)\n",
        "array=np.ones(10)\n",
        "print(\"An array of 10 ones:\")\n",
        "print(array)\n",
        "array=np.ones(10)*5\n",
        "print(\"An array of 10 fives:\")\n",
        "print(array)"
      ],
      "metadata": {
        "id": "GYdDS-FygaVU",
        "outputId": "cc72c62d-9c71-40de-8608-8187f39f0a75",
        "colab": {
          "base_uri": "https://localhost:8080/"
        }
      },
      "execution_count": null,
      "outputs": [
        {
          "output_type": "stream",
          "name": "stdout",
          "text": [
            "An array of 10 zeros:\n",
            "[0. 0. 0. 0. 0. 0. 0. 0. 0. 0.]\n",
            "An array of 10 ones:\n",
            "[1. 1. 1. 1. 1. 1. 1. 1. 1. 1.]\n",
            "An array of 10 fives:\n",
            "[5. 5. 5. 5. 5. 5. 5. 5. 5. 5.]\n"
          ]
        }
      ]
    },
    {
      "cell_type": "markdown",
      "source": [
        "5. Create an array of all the even integers from 20 to 35"
      ],
      "metadata": {
        "id": "Y-RncT2SlcXB"
      }
    },
    {
      "cell_type": "code",
      "source": [
        "import numpy as np\n",
        "array=np.arange(20,34,2)\n",
        "print(\"array of all the even integer from 20 to 35 \")\n",
        "print(array)"
      ],
      "metadata": {
        "colab": {
          "base_uri": "https://localhost:8080/"
        },
        "id": "ypgQV5Lyij8H",
        "outputId": "201ddf0e-b79d-4984-e0fa-9172e499467f"
      },
      "execution_count": null,
      "outputs": [
        {
          "output_type": "stream",
          "name": "stdout",
          "text": [
            "array of all the even integer from 20 to 35 \n",
            "[20 22 24 26 28 30 32]\n"
          ]
        }
      ]
    },
    {
      "cell_type": "markdown",
      "source": [
        "6. Create a 3x3 matrix with values ranging from 0 to 8"
      ],
      "metadata": {
        "id": "VZ7xR7E0lpFM"
      }
    },
    {
      "cell_type": "code",
      "source": [
        "import numpy as np\n",
        "x= np.arange(0,9).reshape(3,3)\n",
        "print(x)"
      ],
      "metadata": {
        "colab": {
          "base_uri": "https://localhost:8080/"
        },
        "id": "bMh9ogh9kfGm",
        "outputId": "ecfe387a-078a-452d-ef7a-cfd9840b5d28"
      },
      "execution_count": null,
      "outputs": [
        {
          "output_type": "stream",
          "name": "stdout",
          "text": [
            "[[0 1 2]\n",
            " [3 4 5]\n",
            " [6 7 8]]\n"
          ]
        }
      ]
    },
    {
      "cell_type": "markdown",
      "source": [
        " 7. Concatenate a and b\n",
        " a = np.array([1, 2, 3]), b = np.array([4, 5, 6])"
      ],
      "metadata": {
        "id": "hacvZ8islxYH"
      }
    },
    {
      "cell_type": "code",
      "source": [
        "a=np.array([1,2,3])\n",
        "b=np.array([4,5,6])\n",
        "arr=np.stack((a,b),axis=1)\n",
        "print(arr)"
      ],
      "metadata": {
        "colab": {
          "base_uri": "https://localhost:8080/"
        },
        "id": "bfSu3AUI1ROf",
        "outputId": "f7d3ec22-05e0-4d96-dda7-07a34b31fae0"
      },
      "execution_count": null,
      "outputs": [
        {
          "output_type": "stream",
          "name": "stdout",
          "text": [
            "[[1 4]\n",
            " [2 5]\n",
            " [3 6]]\n"
          ]
        }
      ]
    },
    {
      "cell_type": "markdown",
      "source": [
        "Pandas\n",
        "  8. Create a dataframe with 3 rows and 2 columns\n",
        "import pandas as pd"
      ],
      "metadata": {
        "id": "0fd6Ptz4l78y"
      }
    },
    {
      "cell_type": "code",
      "source": [
        "import pandas as pd \n",
        "data={'name':['a','b','c'],'Age':[20,21,19]}\n",
        "df=pd.DataFrame(data)\n",
        "print(df)"
      ],
      "metadata": {
        "colab": {
          "base_uri": "https://localhost:8080/"
        },
        "id": "w_xQ4nbL2lpa",
        "outputId": "0dddfb6f-ec91-47e3-abaf-1ef9b8fa8015"
      },
      "execution_count": null,
      "outputs": [
        {
          "output_type": "stream",
          "name": "stdout",
          "text": [
            "  name  Age\n",
            "0    a   20\n",
            "1    b   21\n",
            "2    c   19\n"
          ]
        }
      ]
    },
    {
      "cell_type": "markdown",
      "source": [
        "9. Generate the series of dates from 1st Jan, 2023 to 10th Feb, 2023"
      ],
      "metadata": {
        "id": "FiaR30rMmFcQ"
      }
    },
    {
      "cell_type": "code",
      "source": [
        "from datetime import timedelta, date\n",
        "\n",
        "def daterange(date1, date2):\n",
        "    for n in range(int ((date2 - date1).days)+1):\n",
        "        yield date1 + timedelta(n)\n",
        "\n",
        "start_dt = date(2022,1,1)\n",
        "end_dt = date(2022, 2, 10)\n",
        "for dt in daterange(start_dt, end_dt):\n",
        "    print(dt.strftime(\"%Y-%m-%d\"))"
      ],
      "metadata": {
        "colab": {
          "base_uri": "https://localhost:8080/"
        },
        "id": "5N0GJpzGfore",
        "outputId": "b170dbfd-9f07-4627-94b9-6644508ec5b9"
      },
      "execution_count": null,
      "outputs": [
        {
          "output_type": "stream",
          "name": "stdout",
          "text": [
            "2022-01-01\n",
            "2022-01-02\n",
            "2022-01-03\n",
            "2022-01-04\n",
            "2022-01-05\n",
            "2022-01-06\n",
            "2022-01-07\n",
            "2022-01-08\n",
            "2022-01-09\n",
            "2022-01-10\n",
            "2022-01-11\n",
            "2022-01-12\n",
            "2022-01-13\n",
            "2022-01-14\n",
            "2022-01-15\n",
            "2022-01-16\n",
            "2022-01-17\n",
            "2022-01-18\n",
            "2022-01-19\n",
            "2022-01-20\n",
            "2022-01-21\n",
            "2022-01-22\n",
            "2022-01-23\n",
            "2022-01-24\n",
            "2022-01-25\n",
            "2022-01-26\n",
            "2022-01-27\n",
            "2022-01-28\n",
            "2022-01-29\n",
            "2022-01-30\n",
            "2022-01-31\n",
            "2022-02-01\n",
            "2022-02-02\n",
            "2022-02-03\n",
            "2022-02-04\n",
            "2022-02-05\n",
            "2022-02-06\n",
            "2022-02-07\n",
            "2022-02-08\n",
            "2022-02-09\n",
            "2022-02-10\n"
          ]
        }
      ]
    },
    {
      "cell_type": "markdown",
      "source": [
        " 10. Create 2D list to DataFrame\n",
        "lists = [[1, 'aaa', 22], [2, 'bbb', 25], [3, 'ccc', 24]]\n",
        "lists = [[1, 'aaa', 22],\n",
        "[2, 'bbb', 25],\n",
        "[3, 'ccc', 24]]"
      ],
      "metadata": {
        "id": "HI3NFcF3mMWo"
      }
    },
    {
      "cell_type": "code",
      "source": [
        "import pandas as pd\n",
        "list=[[1,'aaa',22],[2,'bbb',25],[3,'ccc',24]]\n",
        "df = pd.DataFrame(list,columns=['a','b','c'])\n",
        "print(df)\n"
      ],
      "metadata": {
        "colab": {
          "base_uri": "https://localhost:8080/"
        },
        "id": "YevTDR6hhBiu",
        "outputId": "3fee23ee-678f-46ab-9e4b-39b1ab5c813d"
      },
      "execution_count": null,
      "outputs": [
        {
          "output_type": "stream",
          "name": "stdout",
          "text": [
            "   a    b   c\n",
            "0  1  aaa  22\n",
            "1  2  bbb  25\n",
            "2  3  ccc  24\n"
          ]
        }
      ]
    }
  ]
}